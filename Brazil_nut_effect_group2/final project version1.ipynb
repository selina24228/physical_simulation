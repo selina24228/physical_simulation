{
 "cells": [
  {
   "cell_type": "code",
   "execution_count": 1,
   "metadata": {},
   "outputs": [
    {
     "data": {
      "application/javascript": [
       "require.undef(\"nbextensions/vpython_libraries/glow.min\");"
      ],
      "text/plain": [
       "<IPython.core.display.Javascript object>"
      ]
     },
     "metadata": {},
     "output_type": "display_data"
    },
    {
     "data": {
      "application/javascript": [
       "require.undef(\"nbextensions/vpython_libraries/glowcomm\");"
      ],
      "text/plain": [
       "<IPython.core.display.Javascript object>"
      ]
     },
     "metadata": {},
     "output_type": "display_data"
    },
    {
     "data": {
      "application/javascript": [
       "require.undef(\"nbextensions/vpython_libraries/jquery-ui.custom.min\");"
      ],
      "text/plain": [
       "<IPython.core.display.Javascript object>"
      ]
     },
     "metadata": {},
     "output_type": "display_data"
    },
    {
     "data": {
      "application/javascript": [
       "require([\"nbextensions/vpython_libraries/glow.min\"], function(){console.log(\"GLOW LOADED\");})"
      ],
      "text/plain": [
       "<IPython.core.display.Javascript object>"
      ]
     },
     "metadata": {},
     "output_type": "display_data"
    },
    {
     "data": {
      "application/javascript": [
       "require([\"nbextensions/vpython_libraries/glowcomm\"], function(){console.log(\"GLOWCOMM LOADED\");})"
      ],
      "text/plain": [
       "<IPython.core.display.Javascript object>"
      ]
     },
     "metadata": {},
     "output_type": "display_data"
    },
    {
     "data": {
      "application/javascript": [
       "require([\"nbextensions/vpython_libraries/jquery-ui.custom.min\"], function(){console.log(\"JQUERY LOADED\");})"
      ],
      "text/plain": [
       "<IPython.core.display.Javascript object>"
      ]
     },
     "metadata": {},
     "output_type": "display_data"
    },
    {
     "data": {
      "text/html": [
       "<div id=\"glowscript\" class=\"glowscript\"></div>"
      ],
      "text/plain": [
       "<IPython.core.display.HTML object>"
      ]
     },
     "metadata": {},
     "output_type": "display_data"
    },
    {
     "data": {
      "application/javascript": [
       "window.__context = { glowscript_container: $(\"#glowscript\").removeAttr(\"id\")}"
      ],
      "text/plain": [
       "<IPython.core.display.Javascript object>"
      ]
     },
     "metadata": {},
     "output_type": "display_data"
    },
    {
     "data": {
      "text/html": [
       "<div id=\"glowscript\" class=\"glowscript\"></div>"
      ],
      "text/plain": [
       "<IPython.core.display.HTML object>"
      ]
     },
     "metadata": {},
     "output_type": "display_data"
    },
    {
     "data": {
      "application/javascript": [
       "window.__context = { glowscript_container: $(\"#glowscript\").removeAttr(\"id\")}"
      ],
      "text/plain": [
       "<IPython.core.display.Javascript object>"
      ]
     },
     "metadata": {},
     "output_type": "display_data"
    }
   ],
   "source": [
    "from vpython import *\n",
    "scene=canvas(width=800,height=800,background=color.black) # Create a canvas for 3D graphics, align to the left\n",
    "g=graph(width=scene.width,height=scene.height, background=color.gray(0.6)) # Create a graph for plotting, align to the right\n",
    "gc=gcurve(graph=g,color=color.yellow) \n",
    "gc2=gcurve(graph=g,color=color.red) "
   ]
  },
  {
   "cell_type": "code",
   "execution_count": null,
   "metadata": {
    "collapsed": true
   },
   "outputs": [],
   "source": [
    "g=9.8\n",
    "pi=3.1415926\n",
    "size=0.5\n",
    "mass=1\n",
    "Natoms=300\n",
    "L=5\n",
    "dt=0.02\n",
    "tofbig=2 #times of radius\n",
    "mtofbig=1 #times of mass\n",
    "t=0\n",
    "tp=0\n",
    "R=2 #amplitude\n",
    "T=1 #period\n",
    "\n",
    "\n",
    "container=box(length = 2*L , height = 2*L, width = 2*L,  opacity=0.2, color = color.yellow)\n",
    "container.pos=vector(0,0,0)\n",
    "big_nut=sphere(radius=tofbig*size,color=color.cyan)\n",
    "big_nut.pos=vector(0,-3,0)\n",
    "big_nut.v=vector(0,0,0)\n",
    "mbig_nut=mtofbig*mass\n",
    "atoms=[]\n",
    "\n",
    "for i in range(Natoms):              #設定此N個原子的初始條件，其位置隨機在盒子內，速度的方向也隨機，其中一個原子要畫軌跡\n",
    "    position = vector(-0.9*L+1.8*L*random(),-0.9*L+1.8*L*random(),-0.9*L+1.8*L*random())\n",
    "    atom = sphere(pos=position, radius = size, color=color.red)\n",
    "    matom=mass\n",
    "    atom.v = vector(random(),random(),random())\n",
    "    atoms.append(atom)\n",
    "    \n",
    "def vcollision(b1,b2,m1,m2):      #彈性碰撞公式\n",
    "    v1_par= (b1.pos-b2.pos)  * dot (b1.v, b1.pos-b2.pos) / mag(b1.pos-b2.pos)**2\n",
    "    v1=b1.v-v1_par\n",
    "    v1_par_cpy=v1_par\n",
    "    v2_par= (b2.pos-b1.pos)  * dot (b2.v, b2.pos-b1.pos) / mag(b2.pos-b1.pos)**2\n",
    "    v2=b2.v-v2_par\n",
    "    v2_par_cpy=v2_par\n",
    "    v1_par=((m1-m2)/(m1+m2))*v1_par_cpy\n",
    "    v1_par+=((2*m2)/(m1+m2))*v2_par_cpy\n",
    "    v2_par=((m2-m1)/(m2+m1))*v2_par_cpy\n",
    "    v2_par+=((2*m1)/(m2+m1))*v1_par_cpy\n",
    "    v1=v1+v1_par\n",
    "    v2=v2+v2_par\n",
    "    return v1, v2\n",
    "    \n",
    "def abs(k):\n",
    "    if k<0:\n",
    "        return -k\n",
    "    else:\n",
    "        return k\n",
    "        \n",
    "def mag(a):\n",
    "    sum=a.x**2+a.y**2+a.z**2\n",
    "    return sum**(1/2)\n",
    "     \n",
    "\n",
    "##ev = scene.waitfor('click keydown')\n",
    "\n",
    "while True:\n",
    "    rate(50)\n",
    "    sum=0\n",
    "    v_container=0\n",
    "    \n",
    "    if tp<T:    #approximate box_shaking as SHM\n",
    "        v_container=2*pi*R*(cos(2*3.1416*t/T))/T\n",
    "        container.pos += v_container*vector(1,0,0)*dt\n",
    "    else:\n",
    "        v_container=0\n",
    "    \n",
    "##    if ev.event == 'click':\n",
    "##        tp=0\n",
    "    \n",
    "    big_nut.v += g*vector(0,-1,0) * dt\n",
    "    big_nut.pos += big_nut.v * dt\n",
    "    for atom in atoms:\n",
    "        atom.v += g*vector(0,-1,0) * dt\n",
    "        atom.pos += atom.v * dt  #位移 = 速度*時間\n",
    "    \n",
    "    for i in range(Natoms-1): #此四行檢查任2個原子間，是否發生碰撞，若是則以彈性碰撞公式設定碰撞後的速度\n",
    "        sum += atoms[i].pos.y\n",
    "        if mag(atoms[i].pos - big_nut.pos) <= (1+tofbig)*size and dot(atoms[i].pos-big_nut.pos, atoms[i].v-big_nut.v) < 0 :\n",
    "                atoms[i].v, big_nut.v = vcollision(atoms[i], big_nut,matom,mbig_nut)\n",
    "                atoms[i].v= atoms[i].v*1\n",
    "                big_nut.v= big_nut.v*1\n",
    "        \n",
    "        for j in range(i,Natoms):    \n",
    "            if mag(atoms[i].pos - atoms[j].pos) <= 2*size and dot(atoms[i].pos-atoms[j].pos, atoms[i].v-atoms[j].v) < 0 :\n",
    "                atoms[i].v, atoms[j].v = vcollision(atoms[i], atoms[j],matom,matom)\n",
    "                atoms[i].v =atoms[i].v*1\n",
    "                atoms[j].v =atoms[j].v*1\n",
    "    \n",
    "    for atom in atoms:        #簡查所有原子是否撞牆  \n",
    "        if atom.pos.x + size >= L+container.pos.x or (atom.pos.x-size)<= -L+container.pos.x:     #判斷是否撞牆\n",
    "           ## if atom.pos.x*atom.v.x >= 0\n",
    "            atom.v.x = - atom.v.x+v_container        #若撞牆，該原子在該維度方向的速度設為相反\n",
    "        if (abs(atom.pos.y) + size) >= L and atom.pos.y*atom.v.y > 0 :     #判斷是否撞牆\n",
    "                atom.v.y = - atom.v.y         #若撞牆，該原子在該維度方向的速度設為相反\n",
    "        if abs(atom.pos.z) + size >= L and atom.pos.z*atom.v.z > 0 :     #判斷是否撞牆\n",
    "                atom.v.z = - atom.v.z         #若撞牆，該原子在該維度方向的速度設為相反\n",
    "    if big_nut.pos.x + tofbig >= L+container.pos.x or big_nut.pos.x - tofbig <= -L+container.pos.x:     #判斷是否撞牆\n",
    "        if big_nut.pos.x *big_nut.v.x >0:\n",
    "            big_nut.v.x = - big_nut.v.x+v_container        #若撞牆，該原子在該維度方向的速度設為相反\n",
    "    if abs(big_nut.pos.y) + tofbig*size >= L and big_nut.pos.y*big_nut.v.y > 0 :     #判斷是否撞牆\n",
    "            big_nut.v.y = - big_nut.v.y         #若撞牆，該原子在該維度方向的速度設為相反\n",
    "    if abs(big_nut.pos.z) + tofbig*size >= L and big_nut.pos.z*big_nut.v.z > 0 :     #判斷是否撞牆\n",
    "            big_nut.v.z = - big_nut.v.z         #若撞牆，該原子在該維度方向的速度設為相反\n",
    "    gc.plot([t,big_nut.pos.y])\n",
    "    gc2.plot([t,sum/Natoms])\n",
    "    print (tp)\n",
    "    t += dt\n",
    "    tp += dt"
   ]
  },
  {
   "cell_type": "code",
   "execution_count": null,
   "metadata": {
    "collapsed": true
   },
   "outputs": [],
   "source": []
  }
 ],
 "metadata": {
  "kernelspec": {
   "display_name": "VPython",
   "language": "python",
   "name": "vpython"
  },
  "language_info": {
   "codemirror_mode": {
    "name": "ipython",
    "version": 2
   },
   "file_extension": ".py",
   "mimetype": "text/x-python",
   "name": "python",
   "nbconvert_exporter": "python",
   "pygments_lexer": "ipython2",
   "version": "2.7.13"
  }
 },
 "nbformat": 4,
 "nbformat_minor": 2
}
