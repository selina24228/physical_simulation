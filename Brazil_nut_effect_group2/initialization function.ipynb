{
 "cells": [
  {
   "cell_type": "code",
   "execution_count": 1,
   "metadata": {},
   "outputs": [
    {
     "data": {
      "application/javascript": [
       "require.undef(\"nbextensions/vpython_libraries/glow.min\");"
      ],
      "text/plain": [
       "<IPython.core.display.Javascript object>"
      ]
     },
     "metadata": {},
     "output_type": "display_data"
    },
    {
     "data": {
      "application/javascript": [
       "require.undef(\"nbextensions/vpython_libraries/glowcomm\");"
      ],
      "text/plain": [
       "<IPython.core.display.Javascript object>"
      ]
     },
     "metadata": {},
     "output_type": "display_data"
    },
    {
     "data": {
      "application/javascript": [
       "require.undef(\"nbextensions/vpython_libraries/jquery-ui.custom.min\");"
      ],
      "text/plain": [
       "<IPython.core.display.Javascript object>"
      ]
     },
     "metadata": {},
     "output_type": "display_data"
    },
    {
     "data": {
      "application/javascript": [
       "require([\"nbextensions/vpython_libraries/glow.min\"], function(){console.log(\"GLOW LOADED\");})"
      ],
      "text/plain": [
       "<IPython.core.display.Javascript object>"
      ]
     },
     "metadata": {},
     "output_type": "display_data"
    },
    {
     "data": {
      "application/javascript": [
       "require([\"nbextensions/vpython_libraries/glowcomm\"], function(){console.log(\"GLOWCOMM LOADED\");})"
      ],
      "text/plain": [
       "<IPython.core.display.Javascript object>"
      ]
     },
     "metadata": {},
     "output_type": "display_data"
    },
    {
     "data": {
      "application/javascript": [
       "require([\"nbextensions/vpython_libraries/jquery-ui.custom.min\"], function(){console.log(\"JQUERY LOADED\");})"
      ],
      "text/plain": [
       "<IPython.core.display.Javascript object>"
      ]
     },
     "metadata": {},
     "output_type": "display_data"
    },
    {
     "data": {
      "text/html": [
       "<div id=\"glowscript\" class=\"glowscript\"></div>"
      ],
      "text/plain": [
       "<IPython.core.display.HTML object>"
      ]
     },
     "metadata": {},
     "output_type": "display_data"
    },
    {
     "data": {
      "application/javascript": [
       "window.__context = { glowscript_container: $(\"#glowscript\").removeAttr(\"id\")}"
      ],
      "text/plain": [
       "<IPython.core.display.Javascript object>"
      ]
     },
     "metadata": {},
     "output_type": "display_data"
    },
    {
     "data": {
      "text/html": [
       "<div id=\"glowscript\" class=\"glowscript\"></div>"
      ],
      "text/plain": [
       "<IPython.core.display.HTML object>"
      ]
     },
     "metadata": {},
     "output_type": "display_data"
    },
    {
     "data": {
      "application/javascript": [
       "window.__context = { glowscript_container: $(\"#glowscript\").removeAttr(\"id\")}"
      ],
      "text/plain": [
       "<IPython.core.display.Javascript object>"
      ]
     },
     "metadata": {},
     "output_type": "display_data"
    }
   ],
   "source": [
    "from vpython import*\n",
    "scene=canvas(width=800,height=800,background=color.black) # Create a canvas for 3D graphics, align to the left\n",
    "g=graph(width=scene.width,height=scene.height, background=color.gray(0.6)) # Create a graph for plotting, align to the right\n",
    "gc=gcurve(graph=g,color=color.yellow) "
   ]
  },
  {
   "cell_type": "code",
   "execution_count": null,
   "metadata": {
    "collapsed": true
   },
   "outputs": [],
   "source": [
    "g=9.8\n",
    "size=1\n",
    "tosize=1\n",
    "dt=0.005\n",
    "\n",
    "ball1=sphere(pos=vec(0,0,0),radius=tosize*size,color=color.blue)\n",
    "ball2=sphere(pos=vec(0.5,5,0),radius=size,color=color.red,make_trail=True, trail_type=\"points\")\n",
    "vball2=vec(0,0,0)\n",
    "vball1=vec(0,0,0)\n",
    "mball1=1\n",
    "mball2=1\n",
    "\n",
    "scene.waitfor('click')\n",
    "t=0\n",
    "while t<1.6:\n",
    "    rate(200)\n",
    "    dx=abs(ball1.pos.x-ball2.pos.x)\n",
    "    if(mag(ball1.pos-ball2.pos)>(1+tosize)*size):\n",
    "        vball2+=vec(0,-g,0)*dt/mball2\n",
    "        ball2.pos+=vball2*dt\n",
    "    else:\n",
    "        theta=acos(dx/((1+tosize)*size))\n",
    "        N=(g*sin(theta)-(mball2*mag2(vball2))/((1+tosize)*size))\n",
    "        vball2+=vec(g*cos(theta)*sin(theta),-g*cos(theta)*cos(theta),0)*dt/mball2\n",
    "        vball2+=N*(ball1.pos-ball2.pos)*dt/mag(ball1.pos-ball2.pos)*mball2\n",
    "        vball1=-vec((mball2*vball2.x/mball1),0,0)\n",
    "        ball1.pos+=vball1*dt\n",
    "        ball2.pos+=vball2*dt\n",
    "    print(ball2.pos)\n",
    "    t+=dt\n",
    "        "
   ]
  },
  {
   "cell_type": "code",
   "execution_count": null,
   "metadata": {
    "collapsed": true
   },
   "outputs": [],
   "source": []
  }
 ],
 "metadata": {
  "kernelspec": {
   "display_name": "VPython",
   "language": "python",
   "name": "vpython"
  },
  "language_info": {
   "codemirror_mode": {
    "name": "ipython",
    "version": 2
   },
   "file_extension": ".py",
   "mimetype": "text/x-python",
   "name": "python",
   "nbconvert_exporter": "python",
   "pygments_lexer": "ipython2",
   "version": "2.7.13"
  }
 },
 "nbformat": 4,
 "nbformat_minor": 2
}
