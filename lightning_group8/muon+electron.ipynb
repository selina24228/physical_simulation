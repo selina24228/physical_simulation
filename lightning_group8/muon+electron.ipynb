{
 "cells": [
  {
   "cell_type": "code",
   "execution_count": null,
   "metadata": {},
   "outputs": [
    {
     "data": {
      "application/javascript": [
       "require.undef(\"nbextensions/vpython_libraries/glow.min\");"
      ],
      "text/plain": [
       "<IPython.core.display.Javascript object>"
      ]
     },
     "metadata": {},
     "output_type": "display_data"
    },
    {
     "data": {
      "application/javascript": [
       "require.undef(\"nbextensions/vpython_libraries/glowcomm\");"
      ],
      "text/plain": [
       "<IPython.core.display.Javascript object>"
      ]
     },
     "metadata": {},
     "output_type": "display_data"
    },
    {
     "data": {
      "application/javascript": [
       "require.undef(\"nbextensions/vpython_libraries/jquery-ui.custom.min\");"
      ],
      "text/plain": [
       "<IPython.core.display.Javascript object>"
      ]
     },
     "metadata": {},
     "output_type": "display_data"
    },
    {
     "data": {
      "application/javascript": [
       "require([\"nbextensions/vpython_libraries/glow.min\"], function(){console.log(\"GLOW LOADED\");})"
      ],
      "text/plain": [
       "<IPython.core.display.Javascript object>"
      ]
     },
     "metadata": {},
     "output_type": "display_data"
    },
    {
     "data": {
      "application/javascript": [
       "require([\"nbextensions/vpython_libraries/glowcomm\"], function(){console.log(\"GLOWCOMM LOADED\");})"
      ],
      "text/plain": [
       "<IPython.core.display.Javascript object>"
      ]
     },
     "metadata": {},
     "output_type": "display_data"
    },
    {
     "data": {
      "application/javascript": [
       "require([\"nbextensions/vpython_libraries/jquery-ui.custom.min\"], function(){console.log(\"JQUERY LOADED\");})"
      ],
      "text/plain": [
       "<IPython.core.display.Javascript object>"
      ]
     },
     "metadata": {},
     "output_type": "display_data"
    },
    {
     "data": {
      "text/html": [
       "<div id=\"glowscript\" class=\"glowscript\"></div>"
      ],
      "text/plain": [
       "<IPython.core.display.HTML object>"
      ]
     },
     "metadata": {},
     "output_type": "display_data"
    },
    {
     "data": {
      "application/javascript": [
       "window.__context = { glowscript_container: $(\"#glowscript\").removeAttr(\"id\")}"
      ],
      "text/plain": [
       "<IPython.core.display.Javascript object>"
      ]
     },
     "metadata": {},
     "output_type": "display_data"
    },
    {
     "data": {
      "text/html": [
       "<div id=\"glowscript\" class=\"glowscript\"></div>"
      ],
      "text/plain": [
       "<IPython.core.display.HTML object>"
      ]
     },
     "metadata": {},
     "output_type": "display_data"
    },
    {
     "data": {
      "application/javascript": [
       "window.__context = { glowscript_container: $(\"#glowscript\").removeAttr(\"id\")}"
      ],
      "text/plain": [
       "<IPython.core.display.Javascript object>"
      ]
     },
     "metadata": {},
     "output_type": "display_data"
    }
   ],
   "source": [
    "from vpython import*\n",
    "from random import random\n",
    "scene = canvas(width=600, height=500, center=vector(0,0,0),background=vector(0.2,0.5,0))\n",
    "air=box(pos=vec(0,0,0),length=500,width=500,height=400,opacity=0.5)\n",
    "f1 = gdots(color=color.blue)\n",
    "\n",
    "k=9e-9\n",
    "scale=1e15\n",
    "\n",
    "scene.autoscale = False  \n",
    "\n",
    "Nion=50  ##帶正電的離子\n",
    "Nelectron=100 ##自由電子\n",
    "charge=[]\n",
    "photons=[]\n",
    "for i in range(50):\n",
    "    ion=sphere(pos=vec(-230+random()*(500-40),-180+random()*(400-40),-230+random()*(500-40)),radius=20,color=color.red)\n",
    "    ion.q=2\n",
    "    ion.v=vec(0,0,0)\n",
    "    ion.mass=32*(1.66e-27)*scale\n",
    "    charge.append(ion)\n",
    "for i in range(100):\n",
    "    electron=sphere(pos=vec(-245+random()*(500-10),-195+random()*(400-10),-245+random()*(500-10)),radius=5,color=color.cyan)\n",
    "    electron.q=-1\n",
    "    electron.v=vec(0,0,0)\n",
    "    electron.mass=(9.1e-31)*scale\n",
    "    charge.append(electron)\n",
    "for i in range(5000):\n",
    "    photon=sphere(pos=vec(0,0,0),radius=5,color=color.yellow)\n",
    "    photon.visible = False\n",
    "    photons.append(photon)\n",
    "    \n",
    "def Fe (a,b):\n",
    "    return ((k*a.q*b.q/mag2(a.pos-b.pos))*norm(a.pos-b.pos)),((k*a.q*b.q/mag2(a.pos-b.pos))*norm(b.pos-a.pos))\n",
    "\n",
    "light=0\n",
    "t=0\n",
    "dt=0.01\n",
    "while (t<5):\n",
    "    rate(10)\n",
    "    for i in range(150):\n",
    "        charge[i].pos+=charge[i].v*dt\n",
    "        if (i>50):\n",
    "            for j in range(50):\n",
    "                if(mag(charge[i].pos-charge[j].pos)<25):\n",
    "                    charge[i].visible=False\n",
    "                    charge[i].q=0\n",
    "                    charge[j].q-=1\n",
    "                    photons[light].pos=charge[j].pos+norm(charge[i].pos-charge[j].pos)*30\n",
    "                    photons[light].visible=True\n",
    "                    f1.plot(photons[light].pos.x,photons[light].pos.y)\n",
    "                    light+=1\n",
    "      \n",
    "    for i in range(150): #consider both ion and electron\n",
    "        for j in range(i+1,150):\n",
    "            Fi,Fj=Fe (charge[i],charge[j])\n",
    "            charge[i].v+=Fi*dt/charge[i].mass\n",
    "            charge[j].v+=Fj*dt/charge[j].mass\n",
    "    t+=dt"
   ]
  },
  {
   "cell_type": "code",
   "execution_count": null,
   "metadata": {
    "collapsed": true
   },
   "outputs": [],
   "source": []
  },
  {
   "cell_type": "code",
   "execution_count": null,
   "metadata": {
    "collapsed": true
   },
   "outputs": [],
   "source": []
  }
 ],
 "metadata": {
  "kernelspec": {
   "display_name": "VPython",
   "language": "python",
   "name": "vpython"
  },
  "language_info": {
   "codemirror_mode": {
    "name": "ipython",
    "version": 2
   },
   "file_extension": ".py",
   "mimetype": "text/x-python",
   "name": "python",
   "nbconvert_exporter": "python",
   "pygments_lexer": "ipython2",
   "version": "2.7.13"
  }
 },
 "nbformat": 4,
 "nbformat_minor": 2
}
